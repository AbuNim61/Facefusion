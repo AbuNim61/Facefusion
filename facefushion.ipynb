{
  "nbformat": 4,
  "nbformat_minor": 0,
  "metadata": {
    "colab": {
      "provenance": []
    },
    "kernelspec": {
      "name": "python3",
      "display_name": "Python 3"
    },
    "language_info": {
      "name": "python"
    }
  },
  "cells": [
    {
      "cell_type": "code",
      "execution_count": null,
      "metadata": {
        "id": "kisD8TqCalfj"
      },
      "outputs": [],
      "source": []
    },
    {
      "cell_type": "code",
      "execution_count": 1,
      "metadata": {
        "id": "ZlrnUA3i3gMB",
        "colab": {
          "base_uri": "https://localhost:8080/"
        },
        "outputId": "7973348a-1ade-4fd1-917a-23a9ce7ec955"
      },
      "outputs": [
        {
          "output_type": "stream",
          "name": "stdout",
          "text": [
            "Installed!\n"
          ]
        }
      ],
      "source": [
        "#@markdown # Step 1 (6 Minutes)\n",
        "#@markdown ## Installing FaceFusion 2.6.0\n",
        "\n",
        "from IPython.display import clear_output\n",
        "import codecs\n",
        "import torch\n",
        "\n",
        "if torch.cuda.is_available():\n",
        "  device=\"cuda\"\n",
        "  !apt-get install nvidia-cuda-toolkit\n",
        "  print(\"Using GPU\")\n",
        "else:\n",
        "  device=\"cpu\"\n",
        "  print(\"Using CPU\")\n",
        "\n",
        "giturl = codecs.decode('uggcf://tvguho.pbz/snprshfvba/snprshfvba.tvg','rot_13')\n",
        "gitdir = codecs.decode('snprshfvba','rot_13')\n",
        "!git clone {giturl}\n",
        "%cd /content/{gitdir}\n",
        "!python install.py --onnxruntime cuda-11.8 --skip-conda\n",
        "\n",
        "clear_output()\n",
        "print(\"Installed!\")"
      ]
    },
    {
      "cell_type": "code",
      "source": [
        "#@markdown # Option 2 : Running On Local\n",
        "#@markdown _See how to Use this option down below_\n",
        "\n",
        "!npm install -g localtunnel\n",
        "!pip install colorama\n",
        "\n",
        "import subprocess\n",
        "import threading\n",
        "import time\n",
        "import socket\n",
        "import urllib.request\n",
        "\n",
        "def iframe_thread(port):\n",
        "    while True:\n",
        "        time.sleep(0.5)\n",
        "        sock= socket.socket(socket.AF_INET, socket.SOCK_STREAM)\n",
        "        result = sock.connect_ex(('127.0.0.1', port))\n",
        "        if result == 0:\n",
        "            break\n",
        "        sock.close()\n",
        "\n",
        "        from colorama import Fore, Style\n",
        "    print (Fore.GREEN + \"\\nIP: \", Fore. RED, urllib.request.urlopen('https://ipv4.icanhazip.com').read().decode('utf8').strip(\"\\n\"), \"\\n\", Style. RESET_ALL)\n",
        "    p = subprocess.Popen([\"lt\", \"--port\", \"{}\".format(port)], stdout=subprocess.PIPE)\n",
        "    for line in p.stdout:\n",
        "        print(line.decode(), end='')\n",
        "threading.Thread (target=iframe_thread, daemon=True, args=(7860,)).start()\n",
        "\n",
        "\n",
        "!python run.py"
      ],
      "metadata": {
        "colab": {
          "base_uri": "https://localhost:8080/"
        },
        "id": "kYwywngwbzlZ",
        "outputId": "5d8f70c6-0957-4ae1-a8b4-83546990f617"
      },
      "execution_count": 2,
      "outputs": [
        {
          "output_type": "stream",
          "name": "stdout",
          "text": [
            "\u001b[K\u001b[?25h/tools/node/bin/lt -> /tools/node/lib/node_modules/localtunnel/bin/lt.js\n",
            "+ localtunnel@2.0.2\n",
            "added 22 packages from 22 contributors in 2.041s\n",
            "Collecting colorama\n",
            "  Downloading colorama-0.4.6-py2.py3-none-any.whl (25 kB)\n",
            "Installing collected packages: colorama\n",
            "Successfully installed colorama-0.4.6\n",
            "Downloading: 100% 22.5M/22.5M [00:00<00:00, 109MB/s]\n",
            "Downloading: 100% 93.4M/93.4M [00:00<00:00, 191MB/s]\n",
            "Downloading: 100% 922k/922k [00:00<00:00, 8.29MB/s]\n",
            "Downloading: 100% 1.26M/1.26M [00:00<00:00, 11.6MB/s]\n",
            "Downloading: 100% 12.1M/12.1M [00:00<00:00, 83.5MB/s]\n",
            "Downloading: 100% 166M/166M [00:02<00:00, 75.2MB/s]\n",
            "Downloading: 100% 67.1M/67.1M [00:02<00:00, 29.4MB/s]\n",
            "Downloading: 100% 50.7M/50.7M [00:00<00:00, 99.5MB/s]\n",
            "Downloading: 100% 63.7M/63.7M [00:00<00:00, 114MB/s]\n",
            "Downloading: 100% 265M/265M [00:01<00:00, 156MB/s]\n",
            "Running on local URL:  http://127.0.0.1:7860\n",
            "\u001b[32m\n",
            "IP:  \u001b[31m 35.245.24.243 \n",
            " \u001b[0m\n",
            "your url is: https://public-hounds-push.loca.lt\n",
            "Downloading: 100% 324M/324M [00:05<00:00, 63.5MB/s]\n",
            "[FACEFUSION.CORE] Copying image with a resolution of 736x972\n",
            "[FACEFUSION.PROCESSORS.FRAME.MODULES.FACE_SWAPPER] Processing\n",
            "[FACEFUSION.PROCESSORS.FRAME.MODULES.FACE_ENHANCER] Processing\n",
            "[FACEFUSION.CORE] Finalizing image with a resolution of 736x972\n",
            "[FACEFUSION.CORE] Processing to image succeed in 27.31 seconds\n",
            "[FACEFUSION.CORE] Copying image with a resolution of 736x972\n",
            "[FACEFUSION.PROCESSORS.FRAME.MODULES.FACE_SWAPPER] Processing\n",
            "[FACEFUSION.PROCESSORS.FRAME.MODULES.FACE_ENHANCER] Processing\n",
            "[FACEFUSION.CORE] Finalizing image with a resolution of 736x972\n",
            "[FACEFUSION.CORE] Processing to image succeed in 17.16 seconds\n",
            "[FACEFUSION.PROCESSORS.FRAME.MODULES.FACE_SWAPPER] Select a image for source path!\n",
            "[FACEFUSION.PROCESSORS.FRAME.MODULES.FACE_SWAPPER] Select a image for source path!\n",
            "[FACEFUSION.CORE] Copying image with a resolution of 640x640\n",
            "[FACEFUSION.PROCESSORS.FRAME.MODULES.FACE_SWAPPER] Processing\n",
            "[FACEFUSION.PROCESSORS.FRAME.MODULES.FACE_ENHANCER] Processing\n",
            "[FACEFUSION.CORE] Finalizing image with a resolution of 640x640\n",
            "[FACEFUSION.CORE] Processing to image succeed in 17.11 seconds\n",
            "[FACEFUSION.CORE] Copying image with a resolution of 736x736\n",
            "[FACEFUSION.PROCESSORS.FRAME.MODULES.FACE_SWAPPER] Processing\n",
            "[FACEFUSION.PROCESSORS.FRAME.MODULES.FACE_ENHANCER] Processing\n",
            "[FACEFUSION.CORE] Finalizing image with a resolution of 736x736\n",
            "[FACEFUSION.CORE] Processing to image succeed in 24.28 seconds\n",
            "[FACEFUSION.CORE] Copying image with a resolution of 736x736\n",
            "[FACEFUSION.PROCESSORS.FRAME.MODULES.FACE_SWAPPER] Processing\n",
            "[FACEFUSION.PROCESSORS.FRAME.MODULES.FACE_ENHANCER] Processing\n",
            "[FACEFUSION.CORE] Finalizing image with a resolution of 736x736\n",
            "[FACEFUSION.CORE] Processing to image succeed in 24.73 seconds\n",
            "[FACEFUSION.CORE] Copying image with a resolution of 736x736\n",
            "[FACEFUSION.PROCESSORS.FRAME.MODULES.FACE_SWAPPER] Processing\n",
            "[FACEFUSION.PROCESSORS.FRAME.MODULES.FACE_ENHANCER] Processing\n",
            "[FACEFUSION.CORE] Finalizing image with a resolution of 736x736\n",
            "[FACEFUSION.CORE] Processing to image succeed in 19.27 seconds\n",
            "[FACEFUSION.CORE] Copying image with a resolution of 720x900\n",
            "[FACEFUSION.PROCESSORS.FRAME.MODULES.FACE_SWAPPER] Processing\n",
            "[FACEFUSION.PROCESSORS.FRAME.MODULES.FACE_ENHANCER] Processing\n",
            "[FACEFUSION.CORE] Finalizing image with a resolution of 720x900\n",
            "[FACEFUSION.CORE] Processing to image succeed in 33.66 seconds\n",
            "[FACEFUSION.CORE] Copying image with a resolution of 736x736\n",
            "[FACEFUSION.PROCESSORS.FRAME.MODULES.FACE_SWAPPER] Processing\n",
            "[FACEFUSION.PROCESSORS.FRAME.MODULES.FACE_ENHANCER] Processing\n",
            "[FACEFUSION.CORE] Finalizing image with a resolution of 736x736\n",
            "[FACEFUSION.CORE] Processing to image succeed in 15.46 seconds\n",
            "Exception ignored in: <module 'threading' from '/usr/lib/python3.10/threading.py'>\n",
            "Traceback (most recent call last):\n",
            "  File \"/usr/lib/python3.10/threading.py\", line 1518, in _shutdown\n",
            "    def _shutdown():\n",
            "  File \"/content/facefusion/facefusion/core.py\", line 36, in <lambda>\n",
            "    signal.signal(signal.SIGINT, lambda signal_number, frame: destroy())\n",
            "  File \"/content/facefusion/facefusion/core.py\", line 243, in destroy\n",
            "    sys.exit(0)\n",
            "SystemExit: 0\n"
          ]
        }
      ]
    }
  ]
}